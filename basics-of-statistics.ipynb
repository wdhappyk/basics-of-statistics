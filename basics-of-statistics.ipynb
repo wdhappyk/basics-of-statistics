{
 "cells": [
  {
   "cell_type": "markdown",
   "metadata": {
    "pycharm": {
     "name": "#%% md\n"
    }
   },
   "source": [
    "# Основы статистики"
   ]
  },
  {
   "cell_type": "code",
   "execution_count": 143,
   "metadata": {
    "pycharm": {
     "name": "#%%\n"
    }
   },
   "outputs": [],
   "source": [
    "import statistics\n",
    "import random\n",
    "\n",
    "import numpy as np\n",
    "import scipy.stats as stats\n",
    "import matplotlib.pyplot as plt"
   ]
  },
  {
   "cell_type": "code",
   "execution_count": 144,
   "metadata": {
    "pycharm": {
     "name": "#%%\n"
    }
   },
   "outputs": [
    {
     "name": "stdout",
     "output_type": "stream",
     "text": [
      "[1, 2, 3, 4, 5, 6, 7, 8, 9, 10, 11, 12, 13, 14, 15, 16, 17, 18, 19, 20, 21, 22, 23, 24, 25, 26, 27, 28, 29, 30, 31, 32, 33, 34, 35, 36, 37, 38, 39, 40, 41, 42, 43, 44, 45, 46, 47, 48, 49, 50, 51, 52, 53, 54, 55, 56, 57, 58, 59, 60, 61, 62, 63, 64, 65, 66, 67, 68, 69, 70, 71, 72, 73, 74, 75, 76, 77, 78, 79, 80, 81, 82, 83, 84, 85, 86, 87, 88, 89, 90, 91, 92, 93, 94, 95, 96, 97, 98, 99]\n",
      "[1, 2, 3, 4, 5, 6, 7, 8, 9, 10, 11, 12, 13, 14, 15, 16, 17, 18, 19, 20, 21, 22, 23, 24, 25, 26, 27, 28, 29, 30, 31, 32, 33, 34, 35, 36, 37, 38, 39, 40]\n"
     ]
    }
   ],
   "source": [
    "general_totality = list(range(1, 100))\n",
    "general_selection = [n for n in general_totality if 40 >= n <= 60]\n",
    "\n",
    "print(general_totality)\n",
    "print(general_selection)"
   ]
  },
  {
   "cell_type": "markdown",
   "metadata": {
    "pycharm": {
     "name": "#%% md\n"
    }
   },
   "source": [
    "## Меры центральной тенденции"
   ]
  },
  {
   "cell_type": "markdown",
   "metadata": {
    "pycharm": {
     "name": "#%% md\n"
    }
   },
   "source": [
    "### Мода (mode)\n",
    "\n",
    "Значение изменяемого признака, которое встречается максимально часто."
   ]
  },
  {
   "cell_type": "code",
   "execution_count": 145,
   "metadata": {
    "pycharm": {
     "name": "#%%\n"
    }
   },
   "outputs": [
    {
     "name": "stdout",
     "output_type": "stream",
     "text": [
      "1\n",
      "[1, 5]\n"
     ]
    }
   ],
   "source": [
    "data = [1, 1, 1, 5, 5, 5, 2, 3, 4, 4]\n",
    "\n",
    "print(statistics.mode(data))\n",
    "print(statistics.multimode(data))"
   ]
  },
  {
   "cell_type": "markdown",
   "metadata": {
    "pycharm": {
     "name": "#%% md\n"
    }
   },
   "source": [
    "### Медиана (median)\n",
    "\n",
    "Значение признака, которое делит упорядоченное множество данных пополам."
   ]
  },
  {
   "cell_type": "code",
   "execution_count": 146,
   "metadata": {
    "pycharm": {
     "name": "#%%\n"
    }
   },
   "outputs": [
    {
     "name": "stdout",
     "output_type": "stream",
     "text": [
      "3.5\n",
      "3\n",
      "4\n"
     ]
    }
   ],
   "source": [
    "data = [1, 1, 1, 5, 5, 5, 2, 3, 4, 4]\n",
    "\n",
    "print(statistics.median(data))\n",
    "print(statistics.median_low(data))\n",
    "print(statistics.median_high(data))"
   ]
  },
  {
   "cell_type": "markdown",
   "metadata": {
    "pycharm": {
     "name": "#%% md\n"
    }
   },
   "source": [
    "### Среднее значение (mean)\n",
    "\n",
    "Сумма всех значений измеренного признака, делённая на количество измеренных значений.\n",
    "\n",
    "__Свойства среднего:__\n",
    "\n",
    "$$\n",
    "M_{x+c} = M_x + c \\\\\n",
    "M_{x*c} = M_x * c \\\\\n",
    "\\sum(x_i - M_x) = 0\n",
    "$$\n",
    "\n",
    "Обозначения:\n",
    "\n",
    "$ M $ - для генеральной совокупности\n",
    "$ \\overline{x} $ - для выборки"
   ]
  },
  {
   "cell_type": "code",
   "execution_count": 147,
   "metadata": {
    "pycharm": {
     "name": "#%%\n"
    }
   },
   "outputs": [
    {
     "name": "stdout",
     "output_type": "stream",
     "text": [
      "3\n"
     ]
    }
   ],
   "source": [
    "data = [1, 2, 3, 4, 5]\n",
    "\n",
    "print(statistics.mean(data))"
   ]
  },
  {
   "cell_type": "markdown",
   "metadata": {
    "pycharm": {
     "name": "#%% md\n"
    }
   },
   "source": [
    "## Меры изменчивости"
   ]
  },
  {
   "cell_type": "markdown",
   "metadata": {
    "pycharm": {
     "name": "#%% md\n"
    }
   },
   "source": [
    "### Размах (range)\n",
    "\n",
    "Разность максимального и минимального значения\n",
    "\n",
    "$$ R = X_{max} - X_{min} $$"
   ]
  },
  {
   "cell_type": "code",
   "execution_count": 148,
   "metadata": {
    "pycharm": {
     "name": "#%%\n"
    }
   },
   "outputs": [
    {
     "name": "stdout",
     "output_type": "stream",
     "text": [
      "4\n"
     ]
    }
   ],
   "source": [
    "def statistics_range(ns):\n",
    "    return max(ns) - min(ns)\n",
    "\n",
    "\n",
    "print(statistics_range([1, 2, 3, 4, 5]))"
   ]
  },
  {
   "cell_type": "markdown",
   "metadata": {
    "pycharm": {
     "name": "#%% md\n"
    }
   },
   "source": [
    "## Дисперсия (variance)\n",
    "\n",
    "Средний квадрат отклонений индивидуальных значений признака от их средней величины.\n",
    "\n",
    "Для генеральной совокупности:\n",
    "\n",
    "$$ D = \\frac{\\sum(x_i - \\overline{x})^2}{n} $$\n",
    "\n",
    "Для выборки:\n",
    "\n",
    "$$ D = \\frac{\\sum(x_i - \\overline{x})^2}{n-1} $$\n",
    "\n",
    "Данный показатель превышает реальные средние отклонения от среднего по выборке.\n",
    "\n",
    "__Среднеквадратическое отклонение:__\n",
    "\n",
    "$$ \\sqrt{D} = \\sigma $$\n",
    "\n",
    "Показывает реальное среднее значение отклонений от среднего значения по выборке.\n",
    "\n",
    "Обозначения:\n",
    "$ \\sigma $ - для генеральной совокупности\n",
    "$ sd $ - для выборки (standard deviation)\n",
    "\n",
    "__Свойства дисперсии:__\n",
    "\n",
    "$$\n",
    "D_{x+c}=D_x \\\\\n",
    "sd_{x+c}=sd_x \\\\\n",
    "$$\n",
    "\n",
    "$$\n",
    "D_{x*c}=D_x*c^2 \\\\\n",
    "sd_{x*c}=sd_x*c\n",
    "$$\n"
   ]
  },
  {
   "cell_type": "code",
   "execution_count": 149,
   "metadata": {
    "pycharm": {
     "name": "#%%\n"
    }
   },
   "outputs": [
    {
     "name": "stdout",
     "output_type": "stream",
     "text": [
      "825\n",
      "136.66666666666666\n"
     ]
    }
   ],
   "source": [
    "print(statistics.variance(general_totality))\n",
    "print(statistics.variance(general_selection))"
   ]
  },
  {
   "cell_type": "markdown",
   "source": [
    "## Квантили распределения\n",
    "\n",
    "Квартили - три точки (значения признака), которые делят упорядоченное множество данных на четыре равные части."
   ],
   "metadata": {
    "collapsed": false,
    "pycharm": {
     "name": "#%% md\n"
    }
   }
  },
  {
   "cell_type": "code",
   "execution_count": 150,
   "outputs": [
    {
     "data": {
      "text/plain": "<Figure size 432x288 with 1 Axes>",
      "image/png": "[encoded data removed]"
     },
     "metadata": {
      "needs_background": "light"
     },
     "output_type": "display_data"
    }
   ],
   "source": [
    "data = [157, 159, 161, 164, 165, 166, 167, 167, 167, 168, 169, 169, 170, 170, 170, 171, 171, 172, 172, 172, 172, 173,\n",
    "        173, 175, 175, 177, 178, 178, 179, 185]\n",
    "\n",
    "random.seed(6)\n",
    "xs = [0.5 + random.random() for x in data]\n",
    "\n",
    "fig, ax = plt.subplots()\n",
    "ax.boxplot(data, positions=[1], widths=1)\n",
    "ax.scatter(xs, data, s=3, c=\"red\")\n",
    "\n",
    "ax.set(xlim=(0, 2), xticks=range(1, 2),\n",
    "       ylim=(155, 187), yticks=range(155, 188, 2))\n",
    "\n",
    "plt.show()"
   ],
   "metadata": {
    "collapsed": false,
    "pycharm": {
     "name": "#%%\n"
    }
   }
  },
  {
   "cell_type": "markdown",
   "source": [
    "## Стандартизация\n",
    "\n",
    "Стандартизация или z-преобразование - преобразование полученных данных в стандартную Z-шкалу (Z-scores) со средним $ M_z=0 $ и $ D_z=1 $\n",
    "\n",
    "$$\n",
    "Z_i = \\frac{x_i-\\overline{x}}{\\sigma_x}\n",
    "$$"
   ],
   "metadata": {
    "collapsed": false,
    "pycharm": {
     "name": "#%% md\n"
    }
   }
  },
  {
   "cell_type": "code",
   "execution_count": 161,
   "outputs": [
    {
     "data": {
      "text/plain": "<Figure size 432x288 with 1 Axes>",
      "image/png": "[encoded data removed]"
     },
     "metadata": {
      "needs_background": "light"
     },
     "output_type": "display_data"
    },
    {
     "name": "stdout",
     "output_type": "stream",
     "text": [
      "[-2.27020839 -1.93137132 -1.59253425 -1.08427864 -0.9148601  -0.74544156\n",
      " -0.57602303 -0.57602303 -0.57602303 -0.40660449 -0.23718595 -0.23718595\n",
      " -0.06776741 -0.06776741 -0.06776741  0.10165112  0.10165112  0.27106966\n",
      "  0.27106966  0.27106966  0.27106966  0.4404882   0.4404882   0.77932527\n",
      "  0.77932527  1.11816234  1.28758088  1.28758088  1.45699942  2.47351064]\n"
     ]
    }
   ],
   "source": [
    "data = [157, 159, 161, 164, 165, 166, 167, 167, 167, 168, 169, 169, 170, 170, 170, 171, 171, 172, 172, 172, 172, 173,\n",
    "        173, 175, 175, 177, 178, 178, 179, 185]\n",
    "\n",
    "z_data = stats.zscore(data)\n",
    "\n",
    "random.seed(6)\n",
    "xs = [0.5 + random.random() for x in data]\n",
    "\n",
    "fig, ax = plt.subplots()\n",
    "ax.boxplot(z_data, positions=[1], widths=1)\n",
    "ax.scatter(xs, z_data, s=3, c=\"blue\")\n",
    "\n",
    "ax.set(xlim=(0, 2), xticks=range(1, 2),\n",
    "       ylim=(-3, 3), yticks=range(-3, 4, 1))\n",
    "\n",
    "plt.show()\n",
    "\n",
    "print(stats.zscore(data))"
   ],
   "metadata": {
    "collapsed": false,
    "pycharm": {
     "name": "#%%\n"
    }
   }
  },
  {
   "cell_type": "code",
   "execution_count": 151,
   "outputs": [],
   "source": [],
   "metadata": {
    "collapsed": false,
    "pycharm": {
     "name": "#%%\n"
    }
   }
  }
 ],
 "metadata": {
  "kernelspec": {
   "display_name": "Python 3",
   "language": "python",
   "name": "python3"
  },
  "language_info": {
   "codemirror_mode": {
    "name": "ipython",
    "version": 3
   },
   "file_extension": ".py",
   "mimetype": "text/x-python",
   "name": "python",
   "nbconvert_exporter": "python",
   "pygments_lexer": "ipython3",
   "version": "3.8.8"
  }
 },
 "nbformat": 4,
 "nbformat_minor": 1
}