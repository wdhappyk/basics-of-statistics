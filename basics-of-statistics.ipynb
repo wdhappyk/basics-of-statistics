{
 "cells": [
  {
   "cell_type": "markdown",
   "metadata": {
    "pycharm": {
     "name": "#%% md\n"
    }
   },
   "source": [
    "# Основы статистики"
   ]
  },
  {
   "cell_type": "code",
   "execution_count": 25,
   "metadata": {
    "pycharm": {
     "name": "#%%\n"
    }
   },
   "outputs": [],
   "source": [
    "import statistics\n",
    "import random\n",
    "\n",
    "import numpy as np\n",
    "import scipy.stats as stats\n",
    "import matplotlib.pyplot as plt\n",
    "import pylab"
   ]
  },
  {
   "cell_type": "code",
   "execution_count": 26,
   "metadata": {
    "pycharm": {
     "name": "#%%\n"
    }
   },
   "outputs": [
    {
     "name": "stdout",
     "output_type": "stream",
     "text": [
      "[1, 2, 3, 4, 5, 6, 7, 8, 9, 10, 11, 12, 13, 14, 15, 16, 17, 18, 19, 20, 21, 22, 23, 24, 25, 26, 27, 28, 29, 30, 31, 32, 33, 34, 35, 36, 37, 38, 39, 40, 41, 42, 43, 44, 45, 46, 47, 48, 49, 50, 51, 52, 53, 54, 55, 56, 57, 58, 59, 60, 61, 62, 63, 64, 65, 66, 67, 68, 69, 70, 71, 72, 73, 74, 75, 76, 77, 78, 79, 80, 81, 82, 83, 84, 85, 86, 87, 88, 89, 90, 91, 92, 93, 94, 95, 96, 97, 98, 99]\n",
      "[1, 2, 3, 4, 5, 6, 7, 8, 9, 10, 11, 12, 13, 14, 15, 16, 17, 18, 19, 20, 21, 22, 23, 24, 25, 26, 27, 28, 29, 30, 31, 32, 33, 34, 35, 36, 37, 38, 39, 40]\n"
     ]
    }
   ],
   "source": [
    "general_totality = list(range(1, 100))\n",
    "general_selection = [n for n in general_totality if 40 >= n <= 60]\n",
    "\n",
    "print(general_totality)\n",
    "print(general_selection)"
   ]
  },
  {
   "cell_type": "markdown",
   "metadata": {
    "pycharm": {
     "name": "#%% md\n"
    }
   },
   "source": [
    "## Меры центральной тенденции"
   ]
  },
  {
   "cell_type": "markdown",
   "metadata": {
    "pycharm": {
     "name": "#%% md\n"
    }
   },
   "source": [
    "### Мода (mode)\n",
    "\n",
    "Значение изменяемого признака, которое встречается максимально часто."
   ]
  },
  {
   "cell_type": "code",
   "execution_count": 27,
   "metadata": {
    "pycharm": {
     "name": "#%%\n"
    }
   },
   "outputs": [
    {
     "name": "stdout",
     "output_type": "stream",
     "text": [
      "1\n",
      "[1, 5]\n"
     ]
    }
   ],
   "source": [
    "data = [1, 1, 1, 5, 5, 5, 2, 3, 4, 4]\n",
    "\n",
    "print(statistics.mode(data))\n",
    "print(statistics.multimode(data))"
   ]
  },
  {
   "cell_type": "markdown",
   "metadata": {
    "pycharm": {
     "name": "#%% md\n"
    }
   },
   "source": [
    "### Медиана (median)\n",
    "\n",
    "Значение признака, которое делит упорядоченное множество данных пополам."
   ]
  },
  {
   "cell_type": "code",
   "execution_count": 28,
   "metadata": {
    "pycharm": {
     "name": "#%%\n"
    }
   },
   "outputs": [
    {
     "name": "stdout",
     "output_type": "stream",
     "text": [
      "3.5\n",
      "3\n",
      "4\n"
     ]
    }
   ],
   "source": [
    "data = [1, 1, 1, 5, 5, 5, 2, 3, 4, 4]\n",
    "\n",
    "print(statistics.median(data))\n",
    "print(statistics.median_low(data))\n",
    "print(statistics.median_high(data))"
   ]
  },
  {
   "cell_type": "markdown",
   "metadata": {
    "pycharm": {
     "name": "#%% md\n"
    }
   },
   "source": [
    "### Среднее значение (mean)\n",
    "\n",
    "Сумма всех значений измеренного признака, делённая на количество измеренных значений.\n",
    "\n",
    "__Свойства среднего:__\n",
    "\n",
    "$$\n",
    "M_{x+c} = M_x + c \\\\\n",
    "M_{x*c} = M_x * c \\\\\n",
    "\\sum(x_i - M_x) = 0\n",
    "$$\n",
    "\n",
    "Обозначения:\n",
    "\n",
    "$ M $ - для генеральной совокупности\n",
    "$ \\overline{x} $ - для выборки"
   ]
  },
  {
   "cell_type": "code",
   "execution_count": 29,
   "metadata": {
    "pycharm": {
     "name": "#%%\n"
    }
   },
   "outputs": [
    {
     "name": "stdout",
     "output_type": "stream",
     "text": [
      "3\n"
     ]
    }
   ],
   "source": [
    "data = [1, 2, 3, 4, 5]\n",
    "\n",
    "print(statistics.mean(data))"
   ]
  },
  {
   "cell_type": "markdown",
   "metadata": {
    "pycharm": {
     "name": "#%% md\n"
    }
   },
   "source": [
    "## Меры изменчивости"
   ]
  },
  {
   "cell_type": "markdown",
   "metadata": {
    "pycharm": {
     "name": "#%% md\n"
    }
   },
   "source": [
    "### Размах (range)\n",
    "\n",
    "Разность максимального и минимального значения\n",
    "\n",
    "$$ R = X_{max} - X_{min} $$"
   ]
  },
  {
   "cell_type": "code",
   "execution_count": 30,
   "metadata": {
    "pycharm": {
     "name": "#%%\n"
    }
   },
   "outputs": [
    {
     "name": "stdout",
     "output_type": "stream",
     "text": [
      "4\n"
     ]
    }
   ],
   "source": [
    "def statistics_range(ns):\n",
    "    return max(ns) - min(ns)\n",
    "\n",
    "\n",
    "print(statistics_range([1, 2, 3, 4, 5]))"
   ]
  },
  {
   "cell_type": "markdown",
   "metadata": {
    "pycharm": {
     "name": "#%% md\n"
    }
   },
   "source": [
    "## Дисперсия (variance)\n",
    "\n",
    "Средний квадрат отклонений индивидуальных значений признака от их средней величины.\n",
    "\n",
    "Для генеральной совокупности:\n",
    "\n",
    "$$ D = \\frac{\\sum(x_i - \\overline{x})^2}{n} $$\n",
    "\n",
    "Для выборки:\n",
    "\n",
    "$$ D = \\frac{\\sum(x_i - \\overline{x})^2}{n-1} $$\n",
    "\n",
    "Данный показатель превышает реальные средние отклонения от среднего по выборке.\n",
    "\n",
    "__Среднеквадратическое отклонение (standard deviation):__\n",
    "\n",
    "$$ \\sqrt{D} = \\sigma $$\n",
    "\n",
    "Показывает реальное среднее значение отклонений от среднего значения по выборке.\n",
    "\n",
    "Обозначения:\n",
    "$ \\sigma $ - для генеральной совокупности\n",
    "$ sd $ - для выборки (standard deviation)\n",
    "\n",
    "__Свойства дисперсии:__\n",
    "\n",
    "$$\n",
    "D_{x+c}=D_x \\\\\n",
    "sd_{x+c}=sd_x \\\\\n",
    "$$\n",
    "\n",
    "$$\n",
    "D_{x*c}=D_x*c^2 \\\\\n",
    "sd_{x*c}=sd_x*c\n",
    "$$\n"
   ]
  },
  {
   "cell_type": "code",
   "execution_count": 31,
   "metadata": {
    "pycharm": {
     "name": "#%%\n"
    }
   },
   "outputs": [
    {
     "name": "stdout",
     "output_type": "stream",
     "text": [
      "variance:\n",
      "general totality: 825\n",
      "general selection: 136.66666666666666\n",
      "\n",
      "standard deviation:\n",
      "general totality: 28.722813232690143\n",
      "general selection: 11.69045194450012\n"
     ]
    }
   ],
   "source": [
    "print(\"variance:\")\n",
    "print(\"general totality:\", statistics.variance(general_totality))\n",
    "print(\"general selection:\", statistics.variance(general_selection))\n",
    "print()\n",
    "print(\"standard deviation:\")\n",
    "print(\"general totality:\", statistics.stdev(general_totality))\n",
    "print(\"general selection:\", statistics.stdev(general_selection))"
   ]
  },
  {
   "cell_type": "markdown",
   "source": [
    "## Квантили распределения\n",
    "\n",
    "Квартили - три точки (значения признака), которые делят упорядоченное множество данных на четыре равные части."
   ],
   "metadata": {
    "collapsed": false,
    "pycharm": {
     "name": "#%% md\n"
    }
   }
  },
  {
   "cell_type": "code",
   "execution_count": 32,
   "outputs": [
    {
     "data": {
      "text/plain": "<Figure size 432x288 with 1 Axes>",
      "image/png": "[encoded data removed]"
     },
     "metadata": {
      "needs_background": "light"
     },
     "output_type": "display_data"
    }
   ],
   "source": [
    "data = [157, 159, 161, 164, 165, 166, 167, 167, 167, 168, 169, 169, 170, 170, 170, 171, 171, 172, 172, 172, 172, 173,\n",
    "        173, 175, 175, 177, 178, 178, 179, 185]\n",
    "\n",
    "random.seed(6)\n",
    "xs = [0.5 + random.random() for x in data]\n",
    "\n",
    "fig, ax = plt.subplots()\n",
    "ax.boxplot(data, positions=[1], widths=1)\n",
    "ax.scatter(xs, data, s=3, c=\"red\")\n",
    "\n",
    "ax.set(xlim=(0, 2), xticks=range(1, 2),\n",
    "       ylim=(155, 187), yticks=range(155, 188, 2))\n",
    "\n",
    "plt.show()"
   ],
   "metadata": {
    "collapsed": false,
    "pycharm": {
     "name": "#%%\n"
    }
   }
  },
  {
   "cell_type": "markdown",
   "source": [
    "## Стандартизация\n",
    "\n",
    "Стандартизация или z-преобразование - преобразование полученных данных в стандартную Z-шкалу (Z-scores) со средним $ M_z=0 $ и $ D_z=1 $\n",
    "\n",
    "$$\n",
    "Z_i = \\frac{x_i-\\overline{x}}{\\sigma_x}\n",
    "$$"
   ],
   "metadata": {
    "collapsed": false,
    "pycharm": {
     "name": "#%% md\n"
    }
   }
  },
  {
   "cell_type": "code",
   "execution_count": 33,
   "outputs": [
    {
     "data": {
      "text/plain": "<Figure size 432x288 with 1 Axes>",
      "image/png": "[encoded data removed]"
     },
     "metadata": {
      "needs_background": "light"
     },
     "output_type": "display_data"
    },
    {
     "name": "stdout",
     "output_type": "stream",
     "text": [
      "[-2.27020839 -1.93137132 -1.59253425 -1.08427864 -0.9148601  -0.74544156\n",
      " -0.57602303 -0.57602303 -0.57602303 -0.40660449 -0.23718595 -0.23718595\n",
      " -0.06776741 -0.06776741 -0.06776741  0.10165112  0.10165112  0.27106966\n",
      "  0.27106966  0.27106966  0.27106966  0.4404882   0.4404882   0.77932527\n",
      "  0.77932527  1.11816234  1.28758088  1.28758088  1.45699942  2.47351064]\n"
     ]
    }
   ],
   "source": [
    "data = [157, 159, 161, 164, 165, 166, 167, 167, 167, 168, 169, 169, 170, 170, 170, 171, 171, 172, 172, 172, 172, 173,\n",
    "        173, 175, 175, 177, 178, 178, 179, 185]\n",
    "\n",
    "z_data = stats.zscore(data)\n",
    "\n",
    "random.seed(6)\n",
    "xs = [0.5 + random.random() for x in data]\n",
    "\n",
    "fig, ax = plt.subplots()\n",
    "ax.boxplot(z_data, positions=[1], widths=1)\n",
    "ax.scatter(xs, z_data, s=3, c=\"blue\")\n",
    "\n",
    "ax.set(xlim=(0, 2), xticks=range(1, 2),\n",
    "       ylim=(-3, 3), yticks=range(-3, 4, 1))\n",
    "\n",
    "plt.show()\n",
    "\n",
    "print(stats.zscore(data))"
   ],
   "metadata": {
    "collapsed": false,
    "pycharm": {
     "name": "#%%\n"
    }
   }
  },
  {
   "cell_type": "markdown",
   "source": [
    "## Центральная предельная теорема\n",
    "\n",
    "Если из генеральной совокупности сделать _m_ выборок объёма $n$ и рассчитать для каждой выборки среднее, то распределение данных выборочных средних будет являться нормальным, со средним, близким или совпадающим со средним генеральной совокупности. Стандартное отклонение выборочных средних (стандартная ошибка среднего) рассчитывается по формуле:\n",
    "\n",
    "$$\n",
    "se = \\frac{\\sigma}{\\sqrt{n}} = \\frac{sd_x}{\\sqrt{n}}\n",
    "$$"
   ],
   "metadata": {
    "collapsed": false,
    "pycharm": {
     "name": "#%% md\n"
    }
   }
  },
  {
   "cell_type": "markdown",
   "source": [
    "### Построение доверительных интервалов\n",
    "\n",
    "$$\n",
    "\\overline{x} = 100 \\\\\n",
    "sd = 4 \\\\\n",
    "n = 64\n",
    "$$\n",
    "\n",
    "$$\n",
    "se = \\frac{sd_x}{\\sqrt{n}} = \\frac{4}{\\sqrt{64}} = \\frac48 = 0.5\n",
    "$$\n",
    "\n",
    "Доверительный интервал:\n",
    "\n",
    "$$\n",
    "[\\overline{x}-1.96se;\\overline{x}+1.96se] \\\\\n",
    "[100 - 1.96*0.5; 100 + 1.96*0.5] \\\\\n",
    "[99.02; 100.98]\n",
    "$$\n"
   ],
   "metadata": {
    "collapsed": false,
    "pycharm": {
     "name": "#%% md\n"
    }
   }
  },
  {
   "cell_type": "markdown",
   "source": [
    "## Т-распределение\n",
    "\n",
    "Данное распределение используется для проверки гипотез, если неизвестно стандартное отклонение в генеральной совокупности, необходимое для расчёта стандартной ошибки.\n",
    "\n",
    "$$\n",
    "z = \\frac{\\overline{x}-\\mu}{\\frac{\\sigma}{\\sqrt{n}}}\n",
    "$$\n",
    "\n",
    "$$\n",
    "t = \\frac{\\overline{x}-\\mu}{\\frac{sd}{\\sqrt{n}}}\n",
    "$$"
   ],
   "metadata": {
    "collapsed": false,
    "pycharm": {
     "name": "#%% md\n"
    }
   }
  },
  {
   "cell_type": "markdown",
   "source": [
    "## Критерий t - Стьюдента\n",
    "\n",
    "Данный критерий используется для сравнения двух выборок.\n",
    "\n",
    "Дано:\n",
    "$\n",
    "\\overline{X_1}, sd_1, n_1 \\\\\n",
    "\\overline{X_2}, sd_2, n_2\n",
    "$\n",
    "\n",
    "Гипотезы:\n",
    "$\n",
    "H_0: M_1 = M_2 \\\\\n",
    "H_1: M_1 \\neq M_2\n",
    "$\n",
    "\n",
    "$$\n",
    "se = \\sqrt{\\frac{{sd_1}^2}{n_1} + \\frac{{sd_2}^2}{n_2}} \\\\\n",
    "df = n_1 + n_2 - 2 = (n_1 - 1) + (n_2 - 1) = df_1 + df_2 \\\\\n",
    "$$\n",
    "\n",
    "T-критерий:\n",
    "$$\n",
    "t = \\frac{\\overline{X_1}-\\overline{X_2}}{\\sqrt{\\frac{{sd_1}^2}{n_1} + \\frac{{sd_2}^2}{n_2}}} = \\frac{\\overline{X_1}-\\overline{X_2}}{se}\n",
    "$$\n",
    "\n",
    "Требования к применению критерия:\n",
    "1. Дисперсии выборок должны быть приблизительно равны (гомогенность дисперсий) (можно проверить при помощи критерия Левена или критерия Фишера);\n",
    "1. Если объём выборки меньше 30, то распределение должно быть нормальным (не всегда);\n"
   ],
   "metadata": {
    "collapsed": false,
    "pycharm": {
     "name": "#%% md\n"
    }
   }
  },
  {
   "cell_type": "markdown",
   "source": [
    "## Проверка распределения на нормальность\n",
    "\n",
    "Один из самых простых способов - построить гистограмму частот признака и поверх неё наложить кривую идеального нормального распределения."
   ],
   "metadata": {
    "collapsed": false,
    "pycharm": {
     "name": "#%% md\n"
    }
   }
  },
  {
   "cell_type": "code",
   "execution_count": 34,
   "outputs": [],
   "source": [
    "data = np.random.normal(170, 10, 250)"
   ],
   "metadata": {
    "collapsed": false,
    "pycharm": {
     "name": "#%%\n"
    }
   }
  },
  {
   "cell_type": "code",
   "execution_count": 35,
   "outputs": [
    {
     "data": {
      "text/plain": "<Figure size 432x288 with 1 Axes>",
      "image/png": "[encoded data removed]"
     },
     "metadata": {
      "needs_background": "light"
     },
     "output_type": "display_data"
    }
   ],
   "source": [
    "mu, std = stats.norm.fit(data)\n",
    "plt.hist(data, bins=25, density=True, alpha=0.6)\n",
    "\n",
    "xmin, xmax = plt.xlim()\n",
    "x = np.linspace(xmin, xmax, 100)\n",
    "p = stats.norm.pdf(x, mu, std)\n",
    "\n",
    "plt.plot(x, p, \"k\", linewidth=2)\n",
    "title = \"Fit Values: {:.2f} and {:.2f}\".format(mu, std)\n",
    "plt.title(title)\n",
    "\n",
    "plt.show()"
   ],
   "metadata": {
    "collapsed": false,
    "pycharm": {
     "name": "#%%\n"
    }
   }
  },
  {
   "cell_type": "markdown",
   "source": [
    "Второй способ - построение графика Q-Q Plot (квантиль-квантиль плот)."
   ],
   "metadata": {
    "collapsed": false,
    "pycharm": {
     "name": "#%% md\n"
    }
   }
  },
  {
   "cell_type": "code",
   "execution_count": 36,
   "outputs": [
    {
     "data": {
      "text/plain": "<Figure size 432x288 with 1 Axes>",
      "image/png": "[encoded data removed]"
     },
     "metadata": {
      "needs_background": "light"
     },
     "output_type": "display_data"
    }
   ],
   "source": [
    "stats.probplot(data, dist=\"norm\", plot=pylab)\n",
    "pylab.show()"
   ],
   "metadata": {
    "collapsed": false,
    "pycharm": {
     "name": "#%%\n"
    }
   }
  },
  {
   "cell_type": "markdown",
   "source": [
    "## Однофакторный дисперсионный анализ (One-way ANOVA)\n",
    "\n",
    "ANOVA - analysis of variance\n",
    "\n",
    "Данный вид анализа позволяет определить изменчивость данных, которая может быть обусловлена изменчивостью внутри групп и изменчивостью между группами.\n",
    "\n",
    "Дано 3 выборки:\n",
    "$ X_1 = (3, 5, 7) $\n",
    "$ X_2 = (1, 3, 6) $\n",
    "$ X_3 = (2, 4, 5) $\n",
    "\n",
    "$ y = X_1 \\cup X_2 \\cup X_3 $ - все элементы выборок\n",
    "\n",
    "$ m = 3 $ - количество групп\n",
    "$ n = 3 $ - количество элементов в выборке\n",
    "$ N = m * n = 9 $ - общее количество элементов\n",
    "\n",
    "Гипотезы:\n",
    "$\n",
    "H_0: M_1 = M_2 = M_3 \\\\\n",
    "H_1: M_1 \\neq M_2 \\neq M_3\n",
    "$\n",
    "В гипотезе $ H_1 $ имеется ввиду, что какие-то два выборочных средних не совпадают.\n",
    "\n",
    "Среднее значение всех наблюдений:\n",
    "$$\n",
    "\\overline{\\overline{X}} = \\frac{\\[ \\sum_{i=1}^{N} y_i \\]}{N}\n",
    "$$\n",
    "$\n",
    "\\overline{\\overline{X}} = \\frac{3+1+2+5+3+4+7+6+5}{9}=\\frac{36}{9} \\\\\n",
    "\\overline{\\overline{X}} = 4\n",
    "$\n",
    "\n",
    "__Общая сумма квадратов (Sum of squares total)__\n",
    "Сумма квадратов отклонений от среднего всех выборок:\n",
    "$$\n",
    "SST = \\[ \\sum_{i=1}^N (y_{i} - \\overline{\\overline{X}}) \\]\n",
    "$$\n",
    "$\n",
    "SST = (3-4)^2 + (1-4)^2 + (2-4)^2 + (5-4)^2 + (4-4)^2 + (3-4)^2 + (7-4)^2 + (6-4)^2 + (5-4)^2 \\\\\n",
    "SST = 30\n",
    "$\n",
    "\n",
    "Степени свободы общей суммы квадратов:\n",
    "$$\n",
    "df_{SST} = N-1\n",
    "$$\n",
    "$ df_{SST} = 9-1 = 8 $\n",
    "\n",
    "Общая сумма квадратов или общая изменчивость может проистекать из двух источников:\n",
    "1. SSB (Sum of Squares Between groups) - межгрупповая сумма квадратов\n",
    "2. SSW (Sum of Squares Within group) - внутригрупповая сумма квадратов\n",
    "\n",
    "__Внутригрупповая сумма квадратов (SSW):__\n",
    "\n",
    "$\n",
    "\\overline{X_1} = 2 \\\\\n",
    "\\overline{X_2} = 4 \\\\\n",
    "\\overline{X_3} = 6\n",
    "$\n",
    "\n",
    "$$\n",
    "SSW = \\[ \\sum_{g=1}^m \\sum_{i=1}^{n} (X_{g,i} - \\overline{X_g})^2 \\]\n",
    "$$\n",
    "$\n",
    "SSW = (3-2)^2 + (1-2)^2 + (2-2)^2 + (5-4)^2 + (3-4)^2 + (4-4)^2 + (7-6)^2 + (6-6)^2 + (5-6)^2 = 2+2+2 \\\\\n",
    "SSW = 6\n",
    "$\n",
    "\n",
    "Степени свободы внутригрупповой суммы квадратов:\n",
    "$$\n",
    "df_{wg} = N - m\n",
    "$$\n",
    "$ df_{wg} = 9 - 3 = 6 $\n",
    "\n",
    "__Межгрупповая сумма квадратов (SSB):__\n",
    "\n",
    "$$\n",
    "SSB = \\[ \\sum_{g=1}^m n*(\\overline{X_g} - \\overline{\\overline{X}})^2 \\]\n",
    "$$\n",
    "$\n",
    "SSB = 3*(2-4)^2 + 3*(4-4)^2 + 3*(6-4)^2 \\\\\n",
    "SSB = 24\n",
    "$\n",
    "\n",
    "Степени свободы межгрупповой суммы квадратов:\n",
    "$$\n",
    "df_{bg} = m - 1\n",
    "$$\n",
    "$ df_{bg} = 3 - 1 = 2 $\n",
    "\n",
    "\n",
    "__Если большая часть общей изменчивости обеспечивается SSB, то это означает, что группы значительно различаются.\n",
    "Если же большая часть обеспечивается SSW, то это означает, что группы схожи и единственное имеющееся различие - внутри групп.__\n",
    "\n",
    "__F-значение:__\n",
    "\n",
    "F-значение - основной статистический показатель дисперсионного анализа.\n",
    "\n",
    "$$\n",
    "F = \\frac{ \\frac{SSB}{m-1} }{ \\frac{SSW}{N-m} } = \\frac{ \\frac{SSB}{df_{bg}} }{ \\frac{SSW}{df_{wg}} }\n",
    "$$\n",
    "\n",
    "$\n",
    "F = \\frac{ \\frac{24}{2} }{ \\frac{6}{6} } = 12\n",
    "$\n",
    "\n",
    "Рассчитаем _p-value_:\n",
    "\n",
    "![Расчёт p-value](images/ANOVA_F_p-value.png)\n",
    "\n",
    "$ P(X>12) = 0.008 $\n",
    "\n",
    "$ P < 0.05 $, что позволяет отклонить нулевую гипотезу."
   ],
   "metadata": {
    "collapsed": false,
    "pycharm": {
     "name": "#%% md\n"
    }
   }
  },
  {
   "cell_type": "markdown",
   "source": [
    "### Обозначения в дисперсионном анализе\n",
    "\n",
    "__Межгрупповой средний квадрат__ - усреднённое значение межгрупповой суммы квадратов\n",
    "$$\n",
    "MS_{bg} = \\frac{SSB}{df_{bg}} \\\\\n",
    "df_{bg} = m - 1\n",
    "$$\n",
    "\n",
    "__Внутригрупповой средний квадрат__\n",
    "$$\n",
    "MS_{wg} = \\frac{SSW}{df_{wg}} \\\\\n",
    "df_{wg} = N - m\n",
    "$$\n",
    "\n",
    "Тогда __F-значение__:\n",
    "$$\n",
    "F = \\frac{MS_{bg}}{MS_{wg}}\n",
    "$$"
   ],
   "metadata": {
    "collapsed": false,
    "pycharm": {
     "name": "#%% md\n"
    }
   }
  },
  {
   "cell_type": "markdown",
   "source": [
    "## Корреляция\n",
    "\n",
    "__Ковариация__ - мера зависимости двух случайных величин:\n",
    "$$\n",
    "cov = \\frac{\\sum (x_i - \\overline{x})(y_i - \\overline{y})}{N-1}\n",
    "$$\n",
    "Ковариация является количественным показателем силы и направления взаимосвязи двух переменных.\n",
    "\n",
    "__Коэффициент корреляции:__\n",
    "$$\n",
    "r_{xy} = \\frac{cov}{\\sigma_x \\sigma_y} \\\\\n",
    "r_{xy} = \\frac{\\sum (x_i - \\overline{x})(y_i - \\overline{y})}{\\sum (x_i - \\overline{x})^2 \\sum (y_i - \\overline{y})^2 }\n",
    "$$\n",
    "данный коэффициент может принимать значения в диапазоне [-1;1]\n",
    "\n",
    "__Коэффициент детерминации:__\n",
    "$ R^2 $ - показывает, в какой степени дисперсия одной переменной обусловлена влиянием другой переменной.\n",
    "\n",
    "Равен квадрату коэффициента корреляции.\n",
    "\n",
    "Принимает значения [0;1]"
   ],
   "metadata": {
    "collapsed": false,
    "pycharm": {
     "name": "#%% md\n"
    }
   }
  },
  {
   "cell_type": "markdown",
   "source": [
    "Для применения корреляции необходимо линейное распределение данных на графике и нормальность распределения данных по осям X и Y."
   ],
   "metadata": {
    "collapsed": false,
    "pycharm": {
     "name": "#%% md\n"
    }
   }
  },
  {
   "cell_type": "markdown",
   "source": [
    "## Регрессия с одной независимой переменной\n",
    "\n",
    "Линия регрессии - прямая, отображающая взаимосвязь двух переменных (зависимой ($ y $) и независимой ($ x $)), направление взаимосвязи и описывающая распределение данных.\n",
    "\n",
    "### Метод наименьших квадратов\n",
    "\n",
    "Формула линии на прямоугольной системе координат: $ y =b_0 + b_1*x $.\n",
    "\n",
    "МНК - метод нахождения оптимальных параметров ($b_0$ и $b_1$) линейной регрессии, таких, что сумма квадратов ошибок (остатков) была минимальна.\n",
    "\n",
    "Расчёт остатка:\n",
    "$$ e_i = y_i - \\hat{y_i} $$\n",
    ", где $y_i$ - реальное значение, $\\hat{y_i}$ - предсказанное значение.\n",
    "\n",
    "Качество регрессионной прямой:\n",
    "$$ \\sum {e_i}^2 $$\n",
    "\n",
    "Расчёт коэффициентов регрессионной прямой:\n",
    "$$\n",
    "b_1 = \\frac{sd_y}{sd_x} * r_{xy} \\\\\n",
    "b_0 = \\overline{y} - b_1 * \\overline{x}\n",
    "$$"
   ],
   "metadata": {
    "collapsed": false,
    "pycharm": {
     "name": "#%% md\n"
    }
   }
  },
  {
   "cell_type": "markdown",
   "source": [
    "### Коэффициенты линейной регрессии\n",
    "\n",
    "$$\n",
    "t = \\frac{b_1}{se} \\\\\n",
    "df = N - 2\n",
    "$$"
   ],
   "metadata": {
    "collapsed": false,
    "pycharm": {
     "name": "#%% md\n"
    }
   }
  },
  {
   "cell_type": "markdown",
   "source": [
    "Коэффициент детерминации $R^2$ - доля дисперсий зависимой переменной (Y), объясняемая регрессионной моделью.\n",
    "\n",
    "$$ R^2 = 1 - \\frac{SS_{res}}{SS_{total}} $$\n",
    "\n",
    "$ SS_{res} $ - сумма квадратов остатков; сумма расстояний от точек до регрессионной прямой, возведённое в квадрат:\n",
    "$$ SS_{res} = \\sum {e_i}^2 $$\n",
    "\n",
    "$ SS_{total} $ - общая сумма квадратов (общая изменчивость). Сумма квадратов расстояний от точки до среднего значения.\n",
    "$$ SS_{total} = \\sum (y_i - \\overline{y})^2 $$"
   ],
   "metadata": {
    "collapsed": false,
    "pycharm": {
     "name": "#%% md\n"
    }
   }
  },
  {
   "cell_type": "markdown",
   "source": [
    "### Условия применения линейной регрессии\n",
    "\n",
    "* Линейная взаимосвязь X и Y;\n",
    "* Нормальное распределение остатков;\n",
    "* Гомоскедастичность - постоянная изменчивость остатков на всех уровнях независимой переменной."
   ],
   "metadata": {
    "collapsed": false,
    "pycharm": {
     "name": "#%% md\n"
    }
   }
  },
  {
   "cell_type": "markdown",
   "source": [
    "## Множественный линейный регрессионный анализ\n",
    "\n",
    "Данный вид анализа применяется для определения взаимосвязи одной зависимой переменной с набором независимых.\n",
    "\n",
    "Формула для расчёта значений линии регрессии:\n",
    "$$ \\hat{y} = b_0 + b_1*x_1 + ... + b_n * x_n $$\n",
    ", где _n_ - количество независимых переменных."
   ],
   "metadata": {
    "collapsed": false,
    "pycharm": {
     "name": "#%% md\n"
    }
   }
  },
  {
   "cell_type": "markdown",
   "source": [
    "### Требования к данным\n",
    "\n",
    "* Линейная зависимость переменных\n",
    "* Нормальное распределение остатков\n",
    "* Гетероскедастичность\n",
    "* Проверка на мультиколлинеарность\n",
    "* Нормальное распределение переменных (желательно)"
   ],
   "metadata": {
    "collapsed": false,
    "pycharm": {
     "name": "#%% md\n"
    }
   }
  },
  {
   "cell_type": "markdown",
   "source": [
    "__Исправленный R-квадрат (adjusted R-squared)__ - скорректированный коэффициент детерминации. Рассчитывается при включении в модель дополнительных независимых переменных."
   ],
   "metadata": {
    "collapsed": false,
    "pycharm": {
     "name": "#%% md\n"
    }
   }
  },
  {
   "cell_type": "markdown",
   "source": [
    "### Внимание!\n",
    "\n",
    "* При множественном регрессионном анализе количество ЗП не всегда означает качество"
   ],
   "metadata": {
    "collapsed": false,
    "pycharm": {
     "name": "#%% md\n"
    }
   }
  },
  {
   "cell_type": "code",
   "execution_count": null,
   "outputs": [],
   "source": [],
   "metadata": {
    "collapsed": false,
    "pycharm": {
     "name": "#%%\n"
    }
   }
  }
 ],
 "metadata": {
  "kernelspec": {
   "display_name": "Python 3",
   "language": "python",
   "name": "python3"
  },
  "language_info": {
   "codemirror_mode": {
    "name": "ipython",
    "version": 3
   },
   "file_extension": ".py",
   "mimetype": "text/x-python",
   "name": "python",
   "nbconvert_exporter": "python",
   "pygments_lexer": "ipython3",
   "version": "3.8.8"
  }
 },
 "nbformat": 4,
 "nbformat_minor": 1
}