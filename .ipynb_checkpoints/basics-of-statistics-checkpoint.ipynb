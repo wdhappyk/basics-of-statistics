{
 "cells": [
  {
   "cell_type": "markdown",
   "source": [
    "# Основы статистики"
   ],
   "metadata": {
    "collapsed": false,
    "pycharm": {
     "name": "#%% md\n"
    }
   }
  },
  {
   "cell_type": "code",
   "execution_count": 60,
   "outputs": [],
   "source": [
    "import statistics\n",
    "\n",
    "import numpy as np\n",
    "import matplotlib.pyplot as mpl"
   ],
   "metadata": {
    "collapsed": false,
    "pycharm": {
     "name": "#%%\n"
    }
   }
  },
  {
   "cell_type": "code",
   "execution_count": 61,
   "outputs": [
    {
     "name": "stdout",
     "output_type": "stream",
     "text": [
      "[1, 2, 3, 4, 5, 6, 7, 8, 9, 10, 11, 12, 13, 14, 15, 16, 17, 18, 19, 20, 21, 22, 23, 24, 25, 26, 27, 28, 29, 30, 31, 32, 33, 34, 35, 36, 37, 38, 39, 40, 41, 42, 43, 44, 45, 46, 47, 48, 49, 50, 51, 52, 53, 54, 55, 56, 57, 58, 59, 60, 61, 62, 63, 64, 65, 66, 67, 68, 69, 70, 71, 72, 73, 74, 75, 76, 77, 78, 79, 80, 81, 82, 83, 84, 85, 86, 87, 88, 89, 90, 91, 92, 93, 94, 95, 96, 97, 98, 99]\n",
      "[1, 2, 3, 4, 5, 6, 7, 8, 9, 10, 11, 12, 13, 14, 15, 16, 17, 18, 19, 20, 21, 22, 23, 24, 25, 26, 27, 28, 29, 30, 31, 32, 33, 34, 35, 36, 37, 38, 39, 40]\n"
     ]
    }
   ],
   "source": [
    "general_totality = list(range(1,100))\n",
    "general_selection = [n for n in general_totality if 40 >= n <= 60]\n",
    "\n",
    "print(general_totality)\n",
    "print(general_selection)"
   ],
   "metadata": {
    "collapsed": false,
    "pycharm": {
     "name": "#%%\n"
    }
   }
  },
  {
   "cell_type": "markdown",
   "source": [
    "## Меры центральной тенденции"
   ],
   "metadata": {
    "collapsed": false,
    "pycharm": {
     "name": "#%% md\n"
    }
   }
  },
  {
   "cell_type": "markdown",
   "source": [
    "### Мода (mode)\n",
    "\n",
    "Значение изменяемого признака, которое встречается максимально часто."
   ],
   "metadata": {
    "collapsed": false,
    "pycharm": {
     "name": "#%% md\n"
    }
   }
  },
  {
   "cell_type": "code",
   "execution_count": 62,
   "outputs": [
    {
     "name": "stdout",
     "output_type": "stream",
     "text": [
      "1\n",
      "[1, 5]\n"
     ]
    }
   ],
   "source": [
    "data = [1,1,1,5,5,5,2,3,4,4]\n",
    "\n",
    "print(statistics.mode(data))\n",
    "print(statistics.multimode(data))"
   ],
   "metadata": {
    "collapsed": false,
    "pycharm": {
     "name": "#%%\n"
    }
   }
  },
  {
   "cell_type": "markdown",
   "source": [
    "### Медиана (median)\n",
    "\n",
    "Значение признака, которое делит упорядоченное множество данных пополам."
   ],
   "metadata": {
    "collapsed": false,
    "pycharm": {
     "name": "#%% md\n"
    }
   }
  },
  {
   "cell_type": "code",
   "execution_count": 63,
   "outputs": [
    {
     "name": "stdout",
     "output_type": "stream",
     "text": [
      "3.5\n",
      "3\n",
      "4\n"
     ]
    }
   ],
   "source": [
    "data = [1,1,1,5,5,5,2,3,4,4]\n",
    "\n",
    "print(statistics.median(data))\n",
    "print(statistics.median_low(data))\n",
    "print(statistics.median_high(data))"
   ],
   "metadata": {
    "collapsed": false,
    "pycharm": {
     "name": "#%%\n"
    }
   }
  },
  {
   "cell_type": "markdown",
   "source": [
    "### Среднее значение (mean)\n",
    "\n",
    "Сумма всех значений измеренного признака, делённая на количество измеренных значений.\n",
    "\n",
    "__Свойства среднего:__\n",
    "\n",
    "$$\n",
    "M_{x+c} = M_x + C \\\\\n",
    "M_{x*c} = M_x * C \\\\\n",
    "\\sum(x_i - M_x) = 0\n",
    "$$"
   ],
   "metadata": {
    "collapsed": false,
    "pycharm": {
     "name": "#%% md\n"
    }
   }
  },
  {
   "cell_type": "code",
   "execution_count": 64,
   "outputs": [
    {
     "name": "stdout",
     "output_type": "stream",
     "text": [
      "3\n"
     ]
    }
   ],
   "source": [
    "data = [1,2,3,4,5]\n",
    "\n",
    "print(statistics.mean(data))"
   ],
   "metadata": {
    "collapsed": false,
    "pycharm": {
     "name": "#%%\n"
    }
   }
  },
  {
   "cell_type": "markdown",
   "source": [
    "## Меры изменчивости"
   ],
   "metadata": {
    "collapsed": false,
    "pycharm": {
     "name": "#%% md\n"
    }
   }
  },
  {
   "cell_type": "markdown",
   "source": [
    "### Размах (range)\n",
    "\n",
    "Разность максимального и минимального значения\n",
    "\n",
    "$$ R = X_{max} - X_{min} $$"
   ],
   "metadata": {
    "collapsed": false,
    "pycharm": {
     "name": "#%% md\n"
    }
   }
  },
  {
   "cell_type": "code",
   "execution_count": 65,
   "outputs": [
    {
     "name": "stdout",
     "output_type": "stream",
     "text": [
      "4\n"
     ]
    }
   ],
   "source": [
    "def statistics_range(ns):\n",
    "    return max(ns) - min(ns)\n",
    "\n",
    "print(statistics_range([1,2,3,4,5]))"
   ],
   "metadata": {
    "collapsed": false,
    "pycharm": {
     "name": "#%%\n"
    }
   }
  },
  {
   "cell_type": "markdown",
   "source": [
    "## Дисперсия (variance)\n",
    "\n",
    "Средний квадрат отклонений индивидуальных значений признака от их средней величины.\n",
    "\n",
    "$$ D = \\frac{\\sum(x_i - \\overline{x})^2}{n} $$\n",
    "\n",
    "Данный показатель превышает реальные средние отклонения от среднего по выборке.\n",
    "\n",
    "__Среднеквадратическое отклонение__:\n",
    "\n",
    "$$ \\sqrt{D} = \\sigma $$\n",
    "\n",
    "Показывает реальное среднее значение отклонений от среднего значения по выборке.\n"
   ],
   "metadata": {
    "collapsed": false,
    "pycharm": {
     "name": "#%% md\n"
    }
   }
  },
  {
   "cell_type": "code",
   "execution_count": 66,
   "outputs": [
    {
     "name": "stdout",
     "output_type": "stream",
     "text": [
      "825\n",
      "136.66666666666666\n"
     ]
    }
   ],
   "source": [
    "print(statistics.variance(general_totality))\n",
    "print(statistics.variance(general_selection))"
   ],
   "metadata": {
    "collapsed": false,
    "pycharm": {
     "name": "#%%\n"
    }
   }
  },
  {
   "cell_type": "code",
   "execution_count": 66,
   "outputs": [],
   "source": [],
   "metadata": {
    "collapsed": false,
    "pycharm": {
     "name": "#%%\n"
    }
   }
  }
 ],
 "metadata": {
  "kernelspec": {
   "display_name": "Python 3",
   "language": "python",
   "name": "python3"
  },
  "language_info": {
   "codemirror_mode": {
    "name": "ipython",
    "version": 2
   },
   "file_extension": ".py",
   "mimetype": "text/x-python",
   "name": "python",
   "nbconvert_exporter": "python",
   "pygments_lexer": "ipython2",
   "version": "2.7.6"
  }
 },
 "nbformat": 4,
 "nbformat_minor": 0
}